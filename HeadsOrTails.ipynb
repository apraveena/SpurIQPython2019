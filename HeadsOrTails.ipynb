{
 "cells": [
  {
   "cell_type": "code",
   "execution_count": 2,
   "metadata": {},
   "outputs": [
    {
     "data": {
      "application/vnd.jupyter.widget-view+json": {
       "model_id": "",
       "version_major": 2,
       "version_minor": 0
      },
      "text/plain": [
       "HBox(children=(Button(description='Heads', style=ButtonStyle()), Button(description='Tails', style=ButtonStyle…"
      ]
     },
     "metadata": {},
     "output_type": "display_data"
    },
    {
     "data": {
      "application/vnd.jupyter.widget-view+json": {
       "model_id": "6e41a594c913427b8c12ca49a97381b1",
       "version_major": 2,
       "version_minor": 0
      },
      "text/plain": [
       "IntProgress(value=0, description='Progress', max=5)"
      ]
     },
     "metadata": {},
     "output_type": "display_data"
    },
    {
     "data": {
      "application/vnd.jupyter.widget-view+json": {
       "model_id": "",
       "version_major": 2,
       "version_minor": 0
      },
      "text/plain": [
       "Label(value='')"
      ]
     },
     "metadata": {},
     "output_type": "display_data"
    },
    {
     "data": {
      "application/vnd.jupyter.widget-view+json": {
       "model_id": "6f432db447f744b9a4c07a375f7c1d3a",
       "version_major": 2,
       "version_minor": 0
      },
      "text/plain": [
       "Label(value='')"
      ]
     },
     "metadata": {},
     "output_type": "display_data"
    }
   ],
   "source": [
    "import ipywidgets as widgets\n",
    "import random\n",
    "\n",
    "heads = widgets.Button(description='Heads')\n",
    "tails = widgets.Button(description='Tails')\n",
    "choiceBox = widgets.HBox([heads,tails])\n",
    "progressBar = widgets.IntProgress(value=0,min=0,max=5,description='Progress')\n",
    "resultLabel = widgets.Label()\n",
    "endGame = widgets.Label()\n",
    "\n",
    "def coinToss(b):\n",
    "    coin = random.choice(['Heads','Tails'])\n",
    "    progress = progressBar.value\n",
    "    if b.description == coin:\n",
    "        progress += 1\n",
    "        progressBar.value = progress\n",
    "        resultLabel.value = b.description + ' was correct!'\n",
    "    else:\n",
    "        resultLabel.value = b.description + ' was incorrect. Try again!'\n",
    "    if progress == 5:\n",
    "        endGame.value = \"You've correctly picked 5 tosses!\"\n",
    "        choiceBox.close()\n",
    "        resultLabel.close()\n",
    "\n",
    "display(choiceBox)\n",
    "display(progressBar)\n",
    "display(resultLabel)\n",
    "display(endGame)\n",
    "heads.on_click(coinToss)\n",
    "tails.on_click(coinToss)"
   ]
  },
  {
   "cell_type": "code",
   "execution_count": null,
   "metadata": {},
   "outputs": [],
   "source": []
  }
 ],
 "metadata": {
  "kernelspec": {
   "display_name": "Python 3",
   "language": "python",
   "name": "python3"
  },
  "language_info": {
   "codemirror_mode": {
    "name": "ipython",
    "version": 3
   },
   "file_extension": ".py",
   "mimetype": "text/x-python",
   "name": "python",
   "nbconvert_exporter": "python",
   "pygments_lexer": "ipython3",
   "version": "3.7.3"
  }
 },
 "nbformat": 4,
 "nbformat_minor": 2
}
