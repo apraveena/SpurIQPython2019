{
 "cells": [
  {
   "cell_type": "code",
   "execution_count": null,
   "metadata": {},
   "outputs": [],
   "source": [
    "x = input(\"Enter a noun \")\n",
    "y1 = input (\"Enter an adverb that ends with 'ly' \")\n",
    "c = input (\"Enter a color \")\n",
    "p2 = input (\"Enter a place \")\n",
    "f1 = input (\"Enter a food \")\n",
    "n = input (\"Enter a number \")\n",
    "g = input (\"Enter another way to say goodbye \")\n",
    "a = input (\"Enter an animal \")\n",
    "p1 = input(\"Enter another place \")\n",
    "h = input (\"Enter a holiday \")\n",
    "f2 = input (\"Enter another food \")\n",
    "y2 = input (\"Enter another adjective \")\n",
    "r = input(\"Enter a reason - starts with because \")\n",
    "\n",
    "print()\n",
    "print()\n",
    "print(\"Once upon a time there were \" + n + \" little \" + y2 + \" \" + c + \" \" + a + \"s.\")\n",
    "print(\"On \" + h + \", they went to\" + \" \" + p1 + \" \" + r)\n",
    "print(\"They got hungry and were looking for \" + f2 + \" and found \" + f1)\n",
    "print (\"Then they got \" + y1 + \" tired and they went to \" + p2)\n",
    "print (\"and done. \" + g + \". Take care.\")\n",
    "print()\n"
   ]
  }
 ],
 "metadata": {
  "kernelspec": {
   "display_name": "Python 3",
   "language": "python",
   "name": "python3"
  },
  "language_info": {
   "codemirror_mode": {
    "name": "ipython",
    "version": 3
   },
   "file_extension": ".py",
   "mimetype": "text/x-python",
   "name": "python",
   "nbconvert_exporter": "python",
   "pygments_lexer": "ipython3",
   "version": "3.7.3"
  }
 },
 "nbformat": 4,
 "nbformat_minor": 2
}
