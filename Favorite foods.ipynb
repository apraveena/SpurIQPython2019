{
 "cells": [
  {
   "cell_type": "code",
   "execution_count": 7,
   "metadata": {},
   "outputs": [
    {
     "name": "stdout",
     "output_type": "stream",
     "text": [
      "['Pasta', 'Pizza', 'Salad']\n",
      "['Pasta', 'Pizza', 'Salad', 'Pappu']\n",
      "Pasta\n",
      "Pizza\n",
      "Salad\n",
      "Pappu\n"
     ]
    }
   ],
   "source": [
    "foods = [\"Pasta\", \"Pizza\", \"Salad\" ]\n",
    "print(foods)\n",
    "foods.append(\"Pappu\")\n",
    "print(foods)\n",
    "for food in foods:\n",
    "    print(food)"
   ]
  },
  {
   "cell_type": "code",
   "execution_count": 10,
   "metadata": {},
   "outputs": [
    {
     "name": "stdout",
     "output_type": "stream",
     "text": [
      "('Pasta', 'Salad', 'Pizza')\n",
      "Pasta\n",
      "Salad\n",
      "Pizza\n"
     ]
    }
   ],
   "source": [
    "foods1 = (\"Pasta\",  \"Salad\", \"Pizza\")\n",
    "print(foods1)\n",
    "for food in foods1:\n",
    "    print(food)"
   ]
  },
  {
   "cell_type": "code",
   "execution_count": 29,
   "metadata": {
    "scrolled": true
   },
   "outputs": [
    {
     "name": "stdout",
     "output_type": "stream",
     "text": [
      "{'first': 'Pasta', 'second': 'Salad', 'third': 'pizza'}\n",
      "Salad\n",
      "dict_keys(['first', 'second', 'third'])\n",
      "dict_values(['Pasta', 'Salad', 'pizza'])\n",
      "first\n",
      "Pasta\n",
      "second\n",
      "Salad\n",
      "third\n",
      "pizza\n"
     ]
    }
   ],
   "source": [
    "foods2 = {\"first\": \"Pasta\", \"second\": \"Salad\", \"third\": \"pizza\"}\n",
    "print(foods2)\n",
    "\n",
    "print (foods2[\"second\"])\n",
    "print(foods2.keys())\n",
    "print(foods2.values())\n",
    "for food in foods2:\n",
    "    print (food)\n",
    "    print(foods2[food])\n",
    "   \n",
    "          "
   ]
  },
  {
   "cell_type": "code",
   "execution_count": 32,
   "metadata": {
    "scrolled": false
   },
   "outputs": [
    {
     "name": "stdout",
     "output_type": "stream",
     "text": [
      "-5\n",
      "-4\n",
      "-3\n",
      "-2\n",
      "-1\n",
      "1\n",
      "2\n",
      "3\n",
      "4\n",
      "5\n",
      "6\n",
      "7\n",
      "8\n",
      "9\n"
     ]
    }
   ],
   "source": [
    "y = -5\n",
    "while y < 10:\n",
    "    if (y == 0):\n",
    "        y = y + 1\n",
    "        continue\n",
    "    print(y)\n",
    "    y = y + 1"
   ]
  },
  {
   "cell_type": "code",
   "execution_count": 39,
   "metadata": {},
   "outputs": [
    {
     "name": "stdout",
     "output_type": "stream",
     "text": [
      "0\n",
      "1\n",
      "2\n",
      "3\n",
      "4\n"
     ]
    }
   ],
   "source": [
    "for x in range(5):\n",
    "    print (x)\n"
   ]
  },
  {
   "cell_type": "code",
   "execution_count": null,
   "metadata": {},
   "outputs": [],
   "source": []
  },
  {
   "cell_type": "code",
   "execution_count": 36,
   "metadata": {},
   "outputs": [
    {
     "name": "stdout",
     "output_type": "stream",
     "text": [
      "13\n"
     ]
    }
   ],
   "source": [
    "myList = [2, 5, 6]\n",
    "def sumList (myList):\n",
    "    sum = 0\n",
    "    for x in myList:\n",
    "        sum += x\n",
    "    print (sum)\n",
    "sumList(myList)"
   ]
  },
  {
   "cell_type": "code",
   "execution_count": 41,
   "metadata": {},
   "outputs": [
    {
     "name": "stdout",
     "output_type": "stream",
     "text": [
      "No olives\n",
      "No olives\n",
      "No olives\n",
      "No olives\n",
      "No olives\n",
      "Happy\n"
     ]
    }
   ],
   "source": [
    "def myPizza(olives):\n",
    "    if(olives == 0):\n",
    "        print(\"Happy\")\n",
    "        return\n",
    "    olives -= 1\n",
    "    print(\"No olives\")\n",
    "    return myPizza(olives)\n",
    "\n",
    "myPizza(5)"
   ]
  },
  {
   "cell_type": "code",
   "execution_count": 44,
   "metadata": {},
   "outputs": [
    {
     "name": "stdout",
     "output_type": "stream",
     "text": [
      "nothing\n"
     ]
    }
   ],
   "source": [
    "def emptyFunction():\n",
    "    print (\"nothing\")\n",
    "\n",
    "emptyFunction()"
   ]
  },
  {
   "cell_type": "code",
   "execution_count": 47,
   "metadata": {},
   "outputs": [
    {
     "name": "stdout",
     "output_type": "stream",
     "text": [
      "Hello, me\n",
      "None\n",
      "Jonathan\n"
     ]
    }
   ],
   "source": [
    "import mymodule\n",
    "a = mymodule.greeting(\"me\")\n",
    "b = mymodule.person1[\"name\"]\n",
    "print(a)\n",
    "print(b)"
   ]
  },
  {
   "cell_type": "code",
   "execution_count": 48,
   "metadata": {},
   "outputs": [
    {
     "name": "stdout",
     "output_type": "stream",
     "text": [
      "16\n"
     ]
    }
   ],
   "source": [
    "import mymodule as mm\n",
    "print(mm.person1[\"age\"])"
   ]
  },
  {
   "cell_type": "code",
   "execution_count": 49,
   "metadata": {},
   "outputs": [
    {
     "name": "stdout",
     "output_type": "stream",
     "text": [
      "[ 3  6  9 12]\n",
      "[1. 2. 3. 4.]\n"
     ]
    }
   ],
   "source": [
    "import numpy as np\n",
    "y = np.array([3, 6, 9, 12])\n",
    "print(y)\n",
    "print (y/3)"
   ]
  },
  {
   "cell_type": "code",
   "execution_count": 51,
   "metadata": {},
   "outputs": [
    {
     "ename": "NameError",
     "evalue": "name 'z' is not defined",
     "output_type": "error",
     "traceback": [
      "\u001b[0;31m---------------------------------------------------------------------------\u001b[0m",
      "\u001b[0;31mNameError\u001b[0m                                 Traceback (most recent call last)",
      "\u001b[0;32m<ipython-input-51-79102c64614c>\u001b[0m in \u001b[0;36m<module>\u001b[0;34m\u001b[0m\n\u001b[0;32m----> 1\u001b[0;31m \u001b[0mprint\u001b[0m \u001b[0;34m(\u001b[0m\u001b[0mz\u001b[0m\u001b[0;34m)\u001b[0m\u001b[0;34m\u001b[0m\u001b[0;34m\u001b[0m\u001b[0m\n\u001b[0m",
      "\u001b[0;31mNameError\u001b[0m: name 'z' is not defined"
     ]
    }
   ],
   "source": [
    "print (z)"
   ]
  },
  {
   "cell_type": "code",
   "execution_count": 52,
   "metadata": {},
   "outputs": [
    {
     "name": "stdout",
     "output_type": "stream",
     "text": [
      "not defined\n"
     ]
    }
   ],
   "source": [
    "try:\n",
    "    print(z)\n",
    "except:\n",
    "    print(\"not defined\")"
   ]
  }
 ],
 "metadata": {
  "kernelspec": {
   "display_name": "Python 3",
   "language": "python",
   "name": "python3"
  },
  "language_info": {
   "codemirror_mode": {
    "name": "ipython",
    "version": 3
   },
   "file_extension": ".py",
   "mimetype": "text/x-python",
   "name": "python",
   "nbconvert_exporter": "python",
   "pygments_lexer": "ipython3",
   "version": "3.7.3"
  }
 },
 "nbformat": 4,
 "nbformat_minor": 2
}
