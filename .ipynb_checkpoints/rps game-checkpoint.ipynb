{
 "cells": [
  {
   "cell_type": "code",
   "execution_count": 1,
   "metadata": {},
   "outputs": [],
   "source": [
    "sum = 0\n",
    "for x in range(40,2, -3):\n",
    "    sum = sum + x\n"
   ]
  },
  {
   "cell_type": "code",
   "execution_count": 3,
   "metadata": {},
   "outputs": [
    {
     "name": "stdout",
     "output_type": "stream",
     "text": [
      "Enter your move as r, s, p or qr\n",
      "Your move: \tr\n",
      "Computer move:\ts\n",
      "Computer Wins!!\n",
      "Current Score: \t0\n",
      "\n",
      "Enter your move as r, s, p or qa\n",
      "You entered: \t\n",
      "Enter your move as r, s, p or qq\n"
     ]
    }
   ],
   "source": [
    "import random\n",
    "\n",
    "moves = [\"r\", \"p\", \"s\"]\n",
    "winOptions = [\"ps\", \"sr\", \"rp\"]\n",
    "score = 0\n",
    "while True:\n",
    "    playerMove = input(\"Enter your move as r, s, p or q \")\n",
    "    if(playerMove == \"q\"):\n",
    "        break\n",
    "    if (playerMove not in \"rspq\"):\n",
    "        print(\"You entered: \\t\" + playerMove)\n",
    "        continue\n",
    "    computerMove = random.choice(moves) \n",
    "    print(\"Your move: \\t\" + playerMove)\n",
    "    print(\"Computer move:\\t\" + computerMove)\n",
    "    result = playerMove + computerMove\n",
    "    if(playerMove == computerMove):\n",
    "        print (\"It's a tie!!\")\n",
    "    elif(result in winOptions):\n",
    "        print(\"Player Wins!!\")\n",
    "        score += 1\n",
    "    else:\n",
    "        print(\"Computer Wins!!\")\n",
    "    print (\"Current Score: \\t\" + str(score))\n",
    "    print(\"\")"
   ]
  }
 ],
 "metadata": {
  "kernelspec": {
   "display_name": "Python 3",
   "language": "python",
   "name": "python3"
  },
  "language_info": {
   "codemirror_mode": {
    "name": "ipython",
    "version": 3
   },
   "file_extension": ".py",
   "mimetype": "text/x-python",
   "name": "python",
   "nbconvert_exporter": "python",
   "pygments_lexer": "ipython3",
   "version": "3.7.3"
  }
 },
 "nbformat": 4,
 "nbformat_minor": 2
}
