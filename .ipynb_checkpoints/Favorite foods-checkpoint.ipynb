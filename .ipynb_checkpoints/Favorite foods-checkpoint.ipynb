{
 "cells": [
  {
   "cell_type": "code",
   "execution_count": 7,
   "metadata": {},
   "outputs": [
    {
     "name": "stdout",
     "output_type": "stream",
     "text": [
      "['Pasta', 'Pizza', 'Salad']\n",
      "['Pasta', 'Pizza', 'Salad', 'Pappu']\n",
      "Pasta\n",
      "Pizza\n",
      "Salad\n",
      "Pappu\n"
     ]
    }
   ],
   "source": [
    "foods = [\"Pasta\", \"Pizza\", \"Salad\" ]\n",
    "print(foods)\n",
    "foods.append(\"Pappu\")\n",
    "print(foods)\n",
    "for food in foods:\n",
    "    print(food)"
   ]
  },
  {
   "cell_type": "code",
   "execution_count": 10,
   "metadata": {},
   "outputs": [
    {
     "name": "stdout",
     "output_type": "stream",
     "text": [
      "('Pasta', 'Salad', 'Pizza')\n",
      "Pasta\n",
      "Salad\n",
      "Pizza\n"
     ]
    }
   ],
   "source": [
    "foods1 = (\"Pasta\",  \"Salad\", \"Pizza\")\n",
    "print(foods1)\n",
    "for food in foods1:\n",
    "    print(food)"
   ]
  },
  {
   "cell_type": "code",
   "execution_count": 29,
   "metadata": {
    "scrolled": true
   },
   "outputs": [
    {
     "name": "stdout",
     "output_type": "stream",
     "text": [
      "{'first': 'Pasta', 'second': 'Salad', 'third': 'pizza'}\n",
      "Salad\n",
      "dict_keys(['first', 'second', 'third'])\n",
      "dict_values(['Pasta', 'Salad', 'pizza'])\n",
      "first\n",
      "Pasta\n",
      "second\n",
      "Salad\n",
      "third\n",
      "pizza\n"
     ]
    }
   ],
   "source": [
    "foods2 = {\"first\": \"Pasta\", \"second\": \"Salad\", \"third\": \"pizza\"}\n",
    "print(foods2)\n",
    "\n",
    "print (foods2[\"second\"])\n",
    "print(foods2.keys())\n",
    "print(foods2.values())\n",
    "for food in foods2:\n",
    "    print (food)\n",
    "    print(foods2[food])\n",
    "   \n",
    "          "
   ]
  },
  {
   "cell_type": "code",
   "execution_count": null,
   "metadata": {},
   "outputs": [],
   "source": [
    "y = -5\n",
    "while y < 10:\n",
    "    if (y == 0):\n",
    "        continue\n",
    "    print(y)\n",
    "    y = y + 1"
   ]
  }
 ],
 "metadata": {
  "kernelspec": {
   "display_name": "Python 3",
   "language": "python",
   "name": "python3"
  },
  "language_info": {
   "codemirror_mode": {
    "name": "ipython",
    "version": 3
   },
   "file_extension": ".py",
   "mimetype": "text/x-python",
   "name": "python",
   "nbconvert_exporter": "python",
   "pygments_lexer": "ipython3",
   "version": "3.7.3"
  }
 },
 "nbformat": 4,
 "nbformat_minor": 2
}
